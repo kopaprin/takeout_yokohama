{
  "nbformat": 4,
  "nbformat_minor": 0,
  "metadata": {
    "colab": {
      "name": "TakeoutYokohama.ipynb",
      "provenance": [],
      "collapsed_sections": [],
      "authorship_tag": "ABX9TyNJbJc5eBYaet48ovjfeFad",
      "include_colab_link": true
    },
    "kernelspec": {
      "name": "python3",
      "display_name": "Python 3"
    }
  },
  "cells": [
    {
      "cell_type": "markdown",
      "metadata": {
        "id": "view-in-github",
        "colab_type": "text"
      },
      "source": [
        "<a href=\"https://colab.research.google.com/github/kopaprin/takeout_yokohama/blob/master/TakeoutYokohama.ipynb\" target=\"_parent\"><img src=\"https://colab.research.google.com/assets/colab-badge.svg\" alt=\"Open In Colab\"/></a>"
      ]
    },
    {
      "cell_type": "code",
      "metadata": {
        "id": "RtNJ3cw4fXr0",
        "colab_type": "code",
        "outputId": "bbe84940-f3b9-47cd-b520-e979409a4300",
        "colab": {
          "base_uri": "https://localhost:8080/",
          "height": 281
        }
      },
      "source": [
        "import os\n",
        "from google.colab import drive\n",
        "drive.mount('/content/drive')\n",
        "os.chdir(\"/content/drive/My Drive/work/200507_TakeOutYokohama\")\n",
        "!pip install googlemaps\n"
      ],
      "execution_count": 0,
      "outputs": [
        {
          "output_type": "stream",
          "text": [
            "Drive already mounted at /content/drive; to attempt to forcibly remount, call drive.mount(\"/content/drive\", force_remount=True).\n",
            "Collecting googlemaps\n",
            "  Downloading https://files.pythonhosted.org/packages/be/17/bf1ec4b3668984c6f25be4e2d348914b333c64e148c53d04f3db328aea81/googlemaps-4.3.1.tar.gz\n",
            "Requirement already satisfied: requests<3.0,>=2.20.0 in /usr/local/lib/python3.6/dist-packages (from googlemaps) (2.23.0)\n",
            "Requirement already satisfied: idna<3,>=2.5 in /usr/local/lib/python3.6/dist-packages (from requests<3.0,>=2.20.0->googlemaps) (2.9)\n",
            "Requirement already satisfied: chardet<4,>=3.0.2 in /usr/local/lib/python3.6/dist-packages (from requests<3.0,>=2.20.0->googlemaps) (3.0.4)\n",
            "Requirement already satisfied: urllib3!=1.25.0,!=1.25.1,<1.26,>=1.21.1 in /usr/local/lib/python3.6/dist-packages (from requests<3.0,>=2.20.0->googlemaps) (1.24.3)\n",
            "Requirement already satisfied: certifi>=2017.4.17 in /usr/local/lib/python3.6/dist-packages (from requests<3.0,>=2.20.0->googlemaps) (2020.4.5.1)\n",
            "Building wheels for collected packages: googlemaps\n",
            "  Building wheel for googlemaps (setup.py) ... \u001b[?25l\u001b[?25hdone\n",
            "  Created wheel for googlemaps: filename=googlemaps-4.3.1-cp36-none-any.whl size=37711 sha256=d0bcde6bbc31c4375f6deff80a823a57d05e49913976dadb1e9db9c06ec878b9\n",
            "  Stored in directory: /root/.cache/pip/wheels/85/13/9a/6be797f54ea8759a77961114dcbac86fef2a6cc7a4d6ad9785\n",
            "Successfully built googlemaps\n",
            "Installing collected packages: googlemaps\n",
            "Successfully installed googlemaps-4.3.1\n"
          ],
          "name": "stdout"
        }
      ]
    },
    {
      "cell_type": "code",
      "metadata": {
        "id": "rJP8nuyAgAAn",
        "colab_type": "code",
        "colab": {}
      },
      "source": [
        "import pandas as pd\n",
        "base_df = pd.read_csv(\"takeoutyokohama.csv\")"
      ],
      "execution_count": 0,
      "outputs": []
    },
    {
      "cell_type": "code",
      "metadata": {
        "id": "Y2HrEvnej-3C",
        "colab_type": "code",
        "colab": {}
      },
      "source": [
        "col_name = [\n",
        "            \"timestamp\"\n",
        "            , \"shinki_kubun\"\n",
        "            , \"tenpo_mei\"\n",
        "            , \"address_ku\"\n",
        "            , \"address_tyou\"\n",
        "            , \"address_tatemono\"\n",
        "            , \"ido_keido\"\n",
        "            , \"tell\"\n",
        "            , \"eki\"\n",
        "            , \"jyoken\"\n",
        "            , \"teikyubi\"\n",
        "            , \"url\"\n",
        "            , \"sns\"\n",
        "            , \"ryouri\"\n",
        "            , \"takeout\"\n",
        "            , \"delivery\"\n",
        "            , \"delivery_fee\"\n",
        "            , \"message\"\n",
        "            , \"menu_01\"\n",
        "            , \"menu_01_price\"\n",
        "            , \"menu_02\"\n",
        "            , \"menu_02_price\"\n",
        "            , \"menu_03\"\n",
        "            , \"menu_03_price\"\n",
        "            , \"menu_04\"\n",
        "            , \"unnamed\"\n",
        "]"
      ],
      "execution_count": 0,
      "outputs": []
    },
    {
      "cell_type": "code",
      "metadata": {
        "id": "pwMTGn1hf26_",
        "colab_type": "code",
        "outputId": "ef0bbca6-7fa0-4c96-f8a0-a8d482c45ca6",
        "colab": {
          "base_uri": "https://localhost:8080/",
          "height": 34
        }
      },
      "source": [
        "def cleaning_base_df(df):\n",
        "  result = df.copy()\n",
        "  result.columns = col_name\n",
        "  \n",
        "  # drop duplicated\n",
        "  result = result[~result.duplicated(keep='last',subset=\"tenpo_mei\")]\n",
        "  print(df.shape, \"->\", result.shape)\n",
        "\n",
        "  # make address\n",
        "  result[\"address\"] = \"神奈川県横浜市\" + result[\"address_ku\"] + result[\"address_tyou\"]\n",
        "\n",
        "  result = result.reset_index(drop=True)\n",
        "\n",
        "  return result\n",
        "\n",
        "result_df = cleaning_base_df(base_df)"
      ],
      "execution_count": 0,
      "outputs": [
        {
          "output_type": "stream",
          "text": [
            "(505, 26) -> (460, 26)\n"
          ],
          "name": "stdout"
        }
      ]
    },
    {
      "cell_type": "code",
      "metadata": {
        "id": "LXDQsimRrpv3",
        "colab_type": "code",
        "outputId": "9ffca63d-bd14-4b56-968f-e303bf08bce4",
        "colab": {
          "base_uri": "https://localhost:8080/",
          "height": 37
        }
      },
      "source": [
        "def add_locate(df,address):\n",
        "  import googlemaps\n",
        "  from fastprogress.fastprogress import  progress_bar\n",
        "  googleapikey = 'hogehogehogehogehoge'\n",
        "  gmaps = googlemaps.Client(key=googleapikey)\n",
        "\n",
        "  address_list = list(df[address])\n",
        " \n",
        "  lat_list = []\n",
        "  lng_list = []\n",
        "\n",
        "  for ad in progress_bar(address_list):\n",
        "    gmap_list = gmaps.geocode(ad)\n",
        "    try:\n",
        "      lat_list.append(gmap_list[0][\"geometry\"][\"location\"][\"lat\"])\n",
        "      lng_list.append(gmap_list[0][\"geometry\"][\"location\"][\"lng\"])\n",
        "    except :\n",
        "      lat_list.append(\"\")\n",
        "      lng_list.append(\"\")\n",
        "\n",
        "  result = df.copy()\n",
        "  result[\"latitude\"] = lat_list\n",
        "  result[\"longitude\"] = lng_list\n",
        "\n",
        "  return result\n",
        "\n",
        "add_locate_df = add_locate(result_df,\"address\")\n",
        "\n"
      ],
      "execution_count": 0,
      "outputs": [
        {
          "output_type": "display_data",
          "data": {
            "text/html": [
              "\n",
              "    <div>\n",
              "        <style>\n",
              "            /* Turns off some styling */\n",
              "            progress {\n",
              "                /* gets rid of default border in Firefox and Opera. */\n",
              "                border: none;\n",
              "                /* Needs to be in here for Safari polyfill so background images work as expected. */\n",
              "                background-size: auto;\n",
              "            }\n",
              "            .progress-bar-interrupted, .progress-bar-interrupted::-webkit-progress-bar {\n",
              "                background: #F44336;\n",
              "            }\n",
              "        </style>\n",
              "      <progress value='460' class='' max='460' style='width:300px; height:20px; vertical-align: middle;'></progress>\n",
              "      100.00% [460/460 00:54<00:00]\n",
              "    </div>\n",
              "    "
            ],
            "text/plain": [
              "<IPython.core.display.HTML object>"
            ]
          },
          "metadata": {
            "tags": []
          }
        }
      ]
    },
    {
      "cell_type": "code",
      "metadata": {
        "id": "9IZASCgu3sx_",
        "colab_type": "code",
        "colab": {}
      },
      "source": [
        "add_locate_df.to_csv(\"takeoutyokohama_result_df.csv\")"
      ],
      "execution_count": 0,
      "outputs": []
    }
  ]
}